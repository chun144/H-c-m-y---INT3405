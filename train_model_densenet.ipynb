{
 "cells": [
  {
   "cell_type": "code",
   "execution_count": 1,
   "metadata": {},
   "outputs": [],
   "source": [
    "import numpy as np\n",
    "import os\n",
    "from glob import glob"
   ]
  },
  {
   "cell_type": "code",
   "execution_count": 2,
   "metadata": {},
   "outputs": [
    {
     "name": "stdout",
     "output_type": "stream",
     "text": [
      "Training images:  6717\n"
     ]
    }
   ],
   "source": [
    "path = 'DATA_CHAMBER_2021'\n",
    "\n",
    "files_training = glob(os.path.join(path, 'train', '*/*.*'))\n",
    "num_imgs = len(files_training)\n",
    "print(\"Training images: \", num_imgs)"
   ]
  },
  {
   "cell_type": "code",
   "execution_count": 3,
   "metadata": {},
   "outputs": [
    {
     "name": "stdout",
     "output_type": "stream",
     "text": [
      "class             count\n",
      "----------------------\n",
      "  0 2C                  2377\n",
      "  1 3C                  2309\n",
      "  2 4C                  2031\n",
      "\n",
      "\n",
      "Total class:  3\n"
     ]
    }
   ],
   "source": [
    "print(\"{:18s}\".format('class'), end='')\n",
    "print('count')\n",
    "print('-'*22)\n",
    "\n",
    "class_names=[]\n",
    "for i, folder in enumerate(os.listdir(os.path.join(path, 'train'))):\n",
    "    num = len(os.listdir(os.path.join(path, 'train', folder)))\n",
    "    print('{:3d} {:20s}'.format(i, folder), end='')\n",
    "    print(num)\n",
    "    class_names.append(folder)\n",
    "print(\"\\n\\nTotal class: \", len(class_names))"
   ]
  },
  {
   "cell_type": "code",
   "execution_count": 4,
   "metadata": {},
   "outputs": [],
   "source": [
    "import torch\n",
    "from torchvision import transforms\n",
    "from torchvision.datasets import ImageFolder\n",
    "\n",
    "tensor_transform = transforms.Compose([\n",
    "    transforms.Resize((100, 100)),\n",
    "    transforms.ToTensor()\n",
    "])\n",
    "\n",
    "all_data = ImageFolder(os.path.join(path, 'train'), tensor_transform)\n",
    "\n",
    "data_loader = torch.utils.data.DataLoader(all_data, batch_size=512, shuffle=True)"
   ]
  },
  {
   "cell_type": "code",
   "execution_count": 21,
   "metadata": {},
   "outputs": [
    {
     "name": "stdout",
     "output_type": "stream",
     "text": [
      "[0.1327586  0.12797843 0.12901166]\n",
      "[0.20621063 0.20143811 0.20266557]\n"
     ]
    }
   ],
   "source": [
    "tol_mean = []\n",
    "tol_std = []\n",
    "\n",
    "for i, data in enumerate(data_loader):\n",
    "    # tensor to numpy\n",
    "    numpy_image = data[0].numpy()\n",
    "\n",
    "    # compute mean and standard devation\n",
    "    # axis=023 bcs data[0] size is (batchsize, channels, width, height)\n",
    "    # so we want to compute mean and std of 3 channels\n",
    "    batch_mean = np.mean(numpy_image, axis=(0,2,3))\n",
    "    batch_std = np.std(numpy_image, axis=(0,2,3))\n",
    "\n",
    "    tol_mean.append(batch_mean)\n",
    "    tol_std.append(batch_std)\n",
    "    \n",
    "tol_mean = np.array(tol_mean).mean(axis=0)\n",
    "tol_std = np.array(tol_std).mean(axis=0)\n",
    "print(tol_mean)\n",
    "print(tol_std)"
   ]
  },
  {
   "cell_type": "code",
   "execution_count": 5,
   "metadata": {},
   "outputs": [],
   "source": [
    "tol_mean = [0.13285483, 0.12812747, 0.12914398]\n",
    "tol_std = [0.20637107, 0.2016242,  0.20284693]"
   ]
  },
  {
   "cell_type": "code",
   "execution_count": 6,
   "metadata": {},
   "outputs": [
    {
     "name": "stdout",
     "output_type": "stream",
     "text": [
      "Number of valid images after split: 1343\n",
      "Number of train images after split: 5374\n"
     ]
    }
   ],
   "source": [
    "np.random.seed(0)\n",
    "shuffle = np.random.permutation(num_imgs)\n",
    "split_val = int(num_imgs*0.2)\n",
    "print('Number of valid images after split:',len(shuffle[:split_val]))\n",
    "print('Number of train images after split:',len(shuffle[split_val:]))"
   ]
  },
  {
   "cell_type": "code",
   "execution_count": 8,
   "metadata": {},
   "outputs": [],
   "source": [
    "from PIL import Image\n",
    "from torch.utils.data import Dataset\n",
    "\n",
    "class TrainDataset(Dataset):\n",
    "    def __init__(self, files, shuffle, spilit_val, class_names, transform=transforms.ToTensor()):\n",
    "        self.class_names = class_names\n",
    "        self.transform = transform\n",
    "        self.data = np.array([files[i] for i in shuffle[spilit_val:]])\n",
    "    def __len__(self):\n",
    "        return len(self.data)\n",
    "    def __getitem__(self, idx):\n",
    "        img = Image.open(self.data[idx])\n",
    "        img = self.transform(img)\n",
    "        name = self.data[idx].split('\\\\')[-2]\n",
    "        y = self.class_names.index(name)\n",
    "        return img, y\n",
    "\n",
    "class ValidDataset(Dataset):\n",
    "    def __init__(self, files, shuffle, spilit_val, class_names, transform=transforms.ToTensor()):\n",
    "        self.class_names = class_names\n",
    "        self.transform = transform\n",
    "        self.data = np.array([files[i] for i in shuffle[:spilit_val]])\n",
    "    def __len__(self):\n",
    "        return len(self.data)\n",
    "    def __getitem__(self, idx):\n",
    "        img = Image.open(self.data[idx])\n",
    "        img = self.transform(img)\n",
    "        name = self.data[idx].split('\\\\')[-2]\n",
    "        y = self.class_names.index(name) \n",
    "        return img, y\n",
    "\n",
    "class TestDataset(Dataset):\n",
    "    def __init__(self, path, class_names, transform=transforms.ToTensor()):\n",
    "        self.class_names = class_names\n",
    "        self.transform = transform\n",
    "        self.data = np.array(glob(os.path.join(path, 'test', '*/*.*')))\n",
    "    def __len__(self):\n",
    "        return len(self.data)\n",
    "    def __getitem__(self, idx):\n",
    "        img = Image.open(self.data[idx])\n",
    "        img = self.transform(img)\n",
    "        name = self.data[idx].split('\\\\')[-2]\n",
    "        y = self.class_names.index(name)\n",
    "        return img, y"
   ]
  },
  {
   "cell_type": "code",
   "execution_count": 9,
   "metadata": {},
   "outputs": [],
   "source": [
    "data_transform = {\n",
    "    'train' : transforms.Compose([\n",
    "        transforms.Resize((100, 100)),\n",
    "        transforms.RandomHorizontalFlip(),\n",
    "        transforms.RandomVerticalFlip(),\n",
    "        transforms.ToTensor(),\n",
    "        transforms.Normalize(tol_mean, tol_std)\n",
    "    ]),\n",
    "    'valid' : transforms.Compose([\n",
    "        transforms.Resize((100, 100)),\n",
    "        transforms.ToTensor(),\n",
    "        transforms.Normalize(tol_mean, tol_std)\n",
    "    ]),\n",
    "    'test' : transforms.Compose([\n",
    "        transforms.Resize((100, 100)),\n",
    "        transforms.ToTensor(),\n",
    "        transforms.Normalize(tol_mean, tol_std)\n",
    "\n",
    "    ])\n",
    "}\n",
    "test_dataset = TestDataset(path, class_names, data_transform['test'])\n",
    "test_loader = torch.utils.data.DataLoader(test_dataset, batch_size=64, shuffle=True)"
   ]
  },
  {
   "cell_type": "code",
   "execution_count": 10,
   "metadata": {},
   "outputs": [],
   "source": [
    "train_dataset = TrainDataset(files_training, shuffle, \n",
    "                                split_val, class_names, data_transform['train'])\n",
    "valid_dataset = ValidDataset(files_training, shuffle,\n",
    "                                split_val, class_names, data_transform['valid'])\n",
    "test_dataset = TestDataset(path, class_names, data_transform['test'])\n",
    "\n",
    "train_loader = torch.utils.data.DataLoader(train_dataset, batch_size=64, shuffle=True)\n",
    "valid_loader = torch.utils.data.DataLoader(valid_dataset, batch_size=64, shuffle=True)\n",
    "test_loader = torch.utils.data.DataLoader(test_dataset, batch_size=64, shuffle=True)"
   ]
  },
  {
   "cell_type": "code",
   "execution_count": 11,
   "metadata": {},
   "outputs": [],
   "source": [
    "dataloader = {\n",
    "    'train' : train_loader,\n",
    "    'valid' : valid_loader,\n",
    "    'test' : test_loader\n",
    "}\n",
    "\n",
    "dataset = {\n",
    "    'train' : train_dataset,\n",
    "    'valid' : valid_dataset,\n",
    "    'test' : test_dataset\n",
    "}"
   ]
  },
  {
   "cell_type": "code",
   "execution_count": 12,
   "metadata": {},
   "outputs": [
    {
     "name": "stdout",
     "output_type": "stream",
     "text": [
      "(100, 100, 3)\n"
     ]
    },
    {
     "data": {
      "image/png": "[encoded data removed]",
      "text/plain": [
       "<Figure size 432x288 with 1 Axes>"
      ]
     },
     "metadata": {
      "needs_background": "light"
     },
     "output_type": "display_data"
    }
   ],
   "source": [
    "import matplotlib.pyplot as plt\n",
    "\n",
    "for images, labels in train_loader:\n",
    "    images = images.numpy()\n",
    "    temp = images[0].transpose((1,2,0))\n",
    "    print(temp.shape)\n",
    "    temp = temp * tol_std + tol_mean\n",
    "    temp = np.clip(temp, 0, 1)\n",
    "    plt.imshow(temp)\n",
    "    plt.title(class_names[labels.numpy()[0]])\n",
    "    break\n",
    "    "
   ]
  },
  {
   "cell_type": "code",
   "execution_count": 13,
   "metadata": {},
   "outputs": [],
   "source": [
    "import torchvision\n",
    "import torch.optim as optim\n",
    "from torch import nn\n",
    "\n",
    "model = torchvision.models.densenet121(pretrained=False)\n",
    "model.classifier = torch.nn.modules.linear.Linear(in_features=1024, out_features=3, bias=True)\n",
    "criterion = nn.CrossEntropyLoss()\n",
    "optimizer = optim.SGD(model.parameters(), lr=0.01)\n",
    "exp_scheduler = torch.optim.lr_scheduler.StepLR(optimizer, step_size=7, gamma=0.1)\n",
    "# lr = lr/0.1 for each 7 epoch"
   ]
  },
  {
   "cell_type": "code",
   "execution_count": 15,
   "metadata": {},
   "outputs": [
    {
     "name": "stdout",
     "output_type": "stream",
     "text": [
      "\n",
      "Epoch 0/29:\n",
      "train Loss: 1.017942 Accuracy: 0.495162\n",
      "valid Loss: 0.937787 Accuracy: 0.595681\n",
      "\n",
      "Epoch 1/29:\n",
      "train Loss: 0.867483 Accuracy: 0.638630\n",
      "valid Loss: 0.827995 Accuracy: 0.664929\n",
      "\n",
      "Epoch 2/29:\n",
      "train Loss: 0.719744 Accuracy: 0.737067\n",
      "valid Loss: 0.658253 Accuracy: 0.772897\n",
      "\n",
      "Epoch 3/29:\n",
      "train Loss: 0.566579 Accuracy: 0.816152\n",
      "valid Loss: 0.515897 Accuracy: 0.829486\n",
      "\n",
      "Epoch 4/29:\n",
      "train Loss: 0.411188 Accuracy: 0.883327\n",
      "valid Loss: 0.398018 Accuracy: 0.884587\n",
      "\n",
      "Epoch 5/29:\n",
      "train Loss: 0.318894 Accuracy: 0.923149\n",
      "valid Loss: 0.326201 Accuracy: 0.917349\n",
      "\n",
      "Epoch 6/29:\n",
      "train Loss: 0.297421 Accuracy: 0.931894\n",
      "valid Loss: 0.308166 Accuracy: 0.922561\n",
      "\n",
      "Epoch 7/29:\n",
      "train Loss: 0.279931 Accuracy: 0.943431\n",
      "valid Loss: 0.288322 Accuracy: 0.938198\n",
      "\n",
      "Epoch 8/29:\n",
      "train Loss: 0.271827 Accuracy: 0.942687\n",
      "valid Loss: 0.275425 Accuracy: 0.943410\n",
      "\n",
      "Epoch 9/29:\n",
      "train Loss: 0.252265 Accuracy: 0.948269\n",
      "valid Loss: 0.260328 Accuracy: 0.945644\n",
      "\n",
      "Epoch 10/29:\n",
      "train Loss: 0.240211 Accuracy: 0.949014\n",
      "valid Loss: 0.248578 Accuracy: 0.949367\n",
      "\n",
      "Epoch 11/29:\n",
      "train Loss: 0.230501 Accuracy: 0.955527\n",
      "valid Loss: 0.241393 Accuracy: 0.947878\n",
      "\n",
      "Epoch 12/29:\n",
      "train Loss: 0.221075 Accuracy: 0.960551\n",
      "valid Loss: 0.236481 Accuracy: 0.949367\n",
      "\n",
      "Epoch 13/29:\n",
      "train Loss: 0.219450 Accuracy: 0.958318\n",
      "valid Loss: 0.239528 Accuracy: 0.948622\n",
      "\n",
      "Epoch 14/29:\n",
      "train Loss: 0.215910 Accuracy: 0.957573\n",
      "valid Loss: 0.234246 Accuracy: 0.953835\n",
      "\n",
      "Epoch 15/29:\n",
      "train Loss: 0.215434 Accuracy: 0.959434\n",
      "valid Loss: 0.234235 Accuracy: 0.953090\n",
      "\n",
      "Epoch 16/29:\n",
      "train Loss: 0.212831 Accuracy: 0.959062\n",
      "valid Loss: 0.232945 Accuracy: 0.953835\n",
      "\n",
      "Epoch 17/29:\n",
      "train Loss: 0.212172 Accuracy: 0.960179\n",
      "valid Loss: 0.232430 Accuracy: 0.950856\n",
      "\n",
      "Epoch 18/29:\n",
      "train Loss: 0.211085 Accuracy: 0.960737\n",
      "valid Loss: 0.228540 Accuracy: 0.956813\n",
      "\n",
      "Epoch 19/29:\n",
      "train Loss: 0.212488 Accuracy: 0.962784\n",
      "valid Loss: 0.230085 Accuracy: 0.953090\n",
      "\n",
      "Epoch 20/29:\n",
      "train Loss: 0.213075 Accuracy: 0.959248\n",
      "valid Loss: 0.231729 Accuracy: 0.951601\n",
      "\n",
      "Epoch 21/29:\n",
      "train Loss: 0.208615 Accuracy: 0.962598\n",
      "valid Loss: 0.229905 Accuracy: 0.956069\n",
      "\n",
      "Epoch 22/29:\n",
      "train Loss: 0.206043 Accuracy: 0.966133\n",
      "valid Loss: 0.228884 Accuracy: 0.953835\n",
      "\n",
      "Epoch 23/29:\n",
      "train Loss: 0.206272 Accuracy: 0.964645\n",
      "valid Loss: 0.227347 Accuracy: 0.953835\n",
      "\n",
      "Epoch 24/29:\n",
      "train Loss: 0.210843 Accuracy: 0.963342\n",
      "valid Loss: 0.228304 Accuracy: 0.953090\n",
      "\n",
      "Epoch 25/29:\n",
      "train Loss: 0.207186 Accuracy: 0.962970\n",
      "valid Loss: 0.227703 Accuracy: 0.957558\n",
      "\n",
      "Epoch 26/29:\n",
      "train Loss: 0.209589 Accuracy: 0.962412\n",
      "valid Loss: 0.229039 Accuracy: 0.950856\n",
      "\n",
      "Epoch 27/29:\n",
      "train Loss: 0.211622 Accuracy: 0.961481\n",
      "valid Loss: 0.227505 Accuracy: 0.957558\n",
      "\n",
      "Epoch 28/29:\n",
      "train Loss: 0.205523 Accuracy: 0.964272\n",
      "valid Loss: 0.229297 Accuracy: 0.950112\n",
      "\n",
      "Epoch 29/29:\n",
      "train Loss: 0.210411 Accuracy: 0.960551\n",
      "valid Loss: 0.227034 Accuracy: 0.955324\n",
      "\n",
      "Complete training in 3h 35m\n"
     ]
    }
   ],
   "source": [
    "dataloader = {\n",
    "    'train' : train_loader,\n",
    "    'valid' : valid_loader,\n",
    "    'test' : test_loader\n",
    "}\n",
    "\n",
    "dataset = {\n",
    "    'train' : train_dataset,\n",
    "    'valid' : valid_dataset,\n",
    "    'test' : test_dataset\n",
    "}\n",
    "\n",
    "import time\n",
    "import copy\n",
    "\n",
    "def fit(model, criterion, optimizer, scheduler, num_epochs=30):\n",
    "\n",
    "    history = {\n",
    "        'train': list(),\n",
    "        'valid': list()\n",
    "    }\n",
    "\n",
    "    history_acc = {\n",
    "        'train': list(),\n",
    "        'valid': list()\n",
    "    }\n",
    "\n",
    "    begin = time.time()\n",
    "    best_acc = 0.0\n",
    "    for epoch in range(num_epochs):\n",
    "        print(\"\\nEpoch {}/{}:\".format(epoch, num_epochs-1))\n",
    "\n",
    "        for phase in ['train', 'valid']:\n",
    "            if phase == 'train':\n",
    "                scheduler.step()\n",
    "                model.train() # enable dropout & batchnorm\n",
    "            else:\n",
    "                model.eval() # disable dropout & batchnorm\n",
    "\n",
    "            running_loss = 0.0\n",
    "            running_acc = 0\n",
    "            for inputs, labels in dataloader[phase]:\n",
    "                \n",
    "                optimizer.zero_grad()\n",
    "                \n",
    "                with torch.set_grad_enabled(phase == 'train'):\n",
    "                    outputs = model(inputs)\n",
    "                    _, preds = torch.max(outputs, 1)\n",
    "                    # max with dim=1, return: value & index\n",
    "                    # just need index to compare with labels\n",
    "\n",
    "                    loss = criterion(outputs, labels)\n",
    "\n",
    "                    if phase == 'train':\n",
    "                        loss.backward()\n",
    "                        optimizer.step()\n",
    "                running_loss += loss.item() * inputs.size(0)\n",
    "                running_acc += torch.sum(preds == labels)\n",
    "\n",
    "            phase_loss = running_loss / len(dataset[phase])\n",
    "            history[phase].append(phase_loss)\n",
    "            phase_acc = running_acc / len(dataset[phase])\n",
    "            history_acc[phase].append(float(phase_acc))\n",
    "\n",
    "            print(\"{} Loss: {:4f} Accuracy: {:4f}\".format(phase, phase_loss, phase_acc))\n",
    "\n",
    "            if phase == 'valid' and phase_acc > best_acc:\n",
    "                best_acc = phase_acc\n",
    "                best_model = copy.deepcopy(model.state_dict())\n",
    "\n",
    "    end = time.time() - begin\n",
    "    h = end//3600\n",
    "    m = (end - h*3600)//60\n",
    "    print(\"\\nComplete training in {:.0f}h {:.0f}m\".format(h, m))\n",
    "\n",
    "    import json\n",
    "\n",
    "    history_file = open('history_acc.json', \"w\")\n",
    "    json.dump(history_acc, history_file)\n",
    "    history_file.close()\n",
    "\n",
    "    history_file = open('history.json', \"w\")\n",
    "    json.dump(history, history_file)\n",
    "    history_file.close()\n",
    "    \n",
    "    model.load_state_dict(best_model)\n",
    "    return model\n",
    "                \n",
    "model = fit(model, criterion, optimizer, exp_scheduler, num_epochs=30)"
   ]
  },
  {
   "cell_type": "code",
   "execution_count": 16,
   "metadata": {},
   "outputs": [
    {
     "data": {
      "image/png": "[encoded data removed]",
      "text/plain": [
       "<Figure size 432x288 with 1 Axes>"
      ]
     },
     "metadata": {
      "needs_background": "light"
     },
     "output_type": "display_data"
    }
   ],
   "source": [
    "import json\n",
    "\n",
    "history_path = 'history.json'\n",
    "\n",
    "history_file = open(history_path, \"r\")\n",
    "history = history_file.read()\n",
    "history_file.close()\n",
    "\n",
    "history = json.loads(history)\n",
    "\n",
    "import matplotlib.pyplot as plt\n",
    "plt.plot(history['train'])\n",
    "plt.plot(history['valid'])\n",
    "plt.legend(['train loss', 'valid loss'])\n",
    "plt.show()"
   ]
  },
  {
   "cell_type": "code",
   "execution_count": 17,
   "metadata": {},
   "outputs": [
    {
     "data": {
      "image/png": "[encoded data removed]",
      "text/plain": [
       "<Figure size 432x288 with 1 Axes>"
      ]
     },
     "metadata": {
      "needs_background": "light"
     },
     "output_type": "display_data"
    }
   ],
   "source": [
    "import json\n",
    "\n",
    "history_path = 'history_acc.json'\n",
    "\n",
    "history_file = open(history_path, \"r\")\n",
    "history = history_file.read()\n",
    "history_file.close()\n",
    "\n",
    "history = json.loads(history)\n",
    "\n",
    "import matplotlib.pyplot as plt\n",
    "plt.plot(history['train'])\n",
    "plt.plot(history['valid'])\n",
    "plt.legend(['train accuracy', 'valid accuracy'])\n",
    "plt.show()"
   ]
  },
  {
   "cell_type": "code",
   "execution_count": 18,
   "metadata": {},
   "outputs": [
    {
     "name": "stdout",
     "output_type": "stream",
     "text": [
      "tensor([0, 2, 2, 1, 0, 2, 2, 0, 0, 2, 1, 2, 2, 2, 2, 2, 2, 1, 0, 0, 1, 2, 2, 1,\n",
      "        2, 0, 2, 1, 0, 1, 0, 2, 0, 2, 0, 0, 1, 2, 1, 0, 1, 2, 1, 0, 1, 1, 2, 0,\n",
      "        0, 0, 0, 0, 1, 2, 2, 0, 0, 2, 2, 0, 2, 2, 2, 0])\n",
      "tensor([2, 0, 0, 0, 1, 0, 2, 1, 2, 2, 0, 1, 2, 2, 1, 0, 0, 0, 2, 1, 0, 2, 0, 1,\n",
      "        2, 2, 0, 1, 1, 0, 2, 2, 2, 0, 0, 1, 1, 1, 2, 1, 2, 2, 2, 0, 2, 0, 2, 0,\n",
      "        1, 1, 2, 0, 2, 0, 0, 2, 1, 1, 1, 1, 1, 1, 1, 0])\n",
      "tensor([2, 0, 0, 1, 0, 1, 0, 2, 1, 2, 2, 1, 2, 2, 2, 1, 0, 1, 1, 1, 0, 2, 0, 1,\n",
      "        1, 1, 2, 0, 0, 0, 1, 0, 1, 2, 1, 1, 2, 0, 2, 1, 0, 2, 1, 1, 1, 1, 0, 2,\n",
      "        0, 2, 0, 0, 0, 1, 2, 1, 1, 2, 1, 0, 1, 1, 2, 1])\n",
      "tensor([2, 1, 2, 2, 2, 2, 1, 1, 1, 1, 0, 1, 0, 2, 2, 2, 2, 1, 2, 0, 2, 1, 0, 0,\n",
      "        0, 2, 1, 2, 2, 1, 2, 2, 1, 2, 1, 2, 2, 0, 2, 0, 0, 0, 1, 0, 2, 0, 2, 2,\n",
      "        2, 2, 2, 2, 1, 2, 1, 1, 2, 2, 2, 1, 1, 2, 0, 0])\n",
      "tensor([1, 1, 1, 2, 1, 1, 0, 1, 2, 1, 2, 2, 2, 2, 2, 2, 2, 2, 2, 2, 1, 2, 1, 0,\n",
      "        2, 2, 0, 2, 1, 2, 2, 0, 0, 1, 2, 1, 2, 1, 0, 0, 2, 2, 2, 2, 2, 0, 0, 2,\n",
      "        0, 1, 1, 1, 1, 0, 2, 1, 0, 1, 1, 2, 0, 1, 1, 0])\n",
      "tensor([1, 1, 2, 2, 0, 2, 2, 2, 2, 2, 2, 2, 2, 2, 0, 1, 1, 0, 0, 2, 0, 2, 2, 0,\n",
      "        2, 1, 2, 2, 2, 0, 0, 2, 2, 1, 1, 1, 2, 0, 2, 2, 2, 1, 0, 1, 1, 1, 2, 0,\n",
      "        0, 0, 2, 2, 1, 2, 1, 1, 0, 0, 2, 1, 2, 0, 1, 1])\n",
      "tensor([2, 2, 1, 2, 2, 2, 2, 2, 1, 1, 1, 1, 1, 1, 0, 0, 0, 2, 0, 2, 1, 1, 0, 0,\n",
      "        2, 2, 1, 1, 1, 1, 2, 0, 1, 1, 2, 1, 1, 0, 2, 0, 0, 2, 0, 2, 0, 0, 0, 1,\n",
      "        0, 0, 0, 2, 2, 2, 0, 0, 2, 0, 1, 0, 0, 1, 1, 2])\n",
      "tensor([0, 1, 0, 0, 1, 2, 2, 1, 2, 0, 1, 2, 1, 1, 0, 2, 0, 1, 2, 0, 0, 1, 2, 1,\n",
      "        0, 1, 0, 0, 1, 1, 0, 0, 0, 2, 2, 0, 1, 2, 1, 1, 0, 2, 0, 2, 0, 1, 1, 1,\n",
      "        1, 1, 1, 0, 2, 0, 0, 0, 1, 0, 2, 0, 1, 2, 0, 0])\n",
      "tensor([2, 2, 0, 0, 0, 1, 2, 2, 2, 1, 2, 0, 1, 0, 1, 0, 1, 0, 0, 2, 1, 2, 2, 2,\n",
      "        1, 2, 1, 2, 2, 1, 0, 0, 2, 1, 2, 0, 0, 1, 0, 0, 0, 0, 0, 1, 2, 2, 0, 2,\n",
      "        1, 0, 0, 0, 1, 2, 0, 2, 1, 2, 1, 0, 0, 2, 0, 0])\n",
      "tensor([0, 0, 0, 1, 2, 2, 2, 1, 1, 1, 2, 2, 1, 0, 0, 2, 1, 1, 0, 2, 1, 2, 2, 2,\n",
      "        0, 0, 2, 1, 2, 2, 2, 1, 1, 0, 0, 0, 2, 1, 2, 1, 2, 1, 0, 1, 2, 2, 2, 2,\n",
      "        2, 2, 1, 2, 2, 1, 1, 0, 0, 1, 2, 1, 2, 2, 0, 0])\n",
      "tensor([2, 1, 2, 1, 1, 1, 2, 0, 0, 0, 0, 1, 1, 0, 0, 2, 1, 0, 1, 0, 2, 2, 1, 0,\n",
      "        2, 1, 1, 2, 2, 0, 2, 0, 2, 2, 0, 0, 1, 2, 2, 1, 0, 0, 0, 2, 2, 1, 0, 2,\n",
      "        0, 2, 0, 0, 1, 1, 0, 1, 2, 2, 0, 2, 1, 2, 0, 0])\n",
      "tensor([1, 1, 2, 0, 0, 2, 2, 2, 2, 1, 2, 0, 2, 1, 1, 1, 2, 0, 0, 0, 0, 2, 1, 1,\n",
      "        0, 2, 2, 2, 0, 2, 2, 2, 1, 2, 1, 2, 2, 2, 0, 2, 2, 2, 1, 0, 1, 1, 0, 0,\n",
      "        0, 2, 1, 0, 2, 0, 1, 0, 2, 1, 1, 1, 0, 2, 2, 2])\n",
      "tensor([0, 2, 0, 0, 0, 0, 0, 0, 1, 1, 2, 2, 2, 0, 0, 2, 0, 1, 0, 0, 1, 2, 1, 2,\n",
      "        0, 1, 0, 1, 2, 0, 2, 2, 0, 0, 0, 0, 1, 1, 0, 2, 1, 2, 2, 1, 2, 2, 2, 1,\n",
      "        2, 0, 0, 0, 0, 1, 1, 2, 1, 2, 2, 1, 1, 2, 1, 2])\n",
      "tensor([0, 2, 2, 1, 1, 1, 0, 2, 2, 2, 2, 1, 2, 1, 0, 2, 1, 1, 0, 1, 0, 1, 2, 2,\n",
      "        2, 0, 1, 0, 2, 1, 2, 0, 0, 0, 0, 0, 2, 2, 1, 0, 1, 1, 0, 0, 0, 0, 0, 0,\n",
      "        2, 2, 0, 2, 1, 0, 0, 2, 0, 2, 1, 2, 2, 2, 2, 1])\n",
      "tensor([0, 1, 0, 2, 2, 0, 0, 0, 1, 0, 2, 1, 0, 2, 2, 2, 1, 1, 0, 1, 1, 0, 0, 1,\n",
      "        2, 1, 0, 1, 2, 1, 2, 1, 1, 2, 1, 0, 0, 0, 0, 2, 2, 0, 2, 1, 1, 1, 1, 2,\n",
      "        1, 2, 2, 1, 1, 1, 2, 0, 2, 2, 0, 0, 0, 1, 0, 1])\n",
      "tensor([2, 2, 0, 2, 2, 0, 1, 1, 1, 2, 2, 1, 2, 2, 0, 0, 2, 2, 2, 0, 1, 1, 2, 2,\n",
      "        1, 0, 2, 2, 2, 0, 0, 0, 2, 2, 0, 2, 2, 1, 1, 2, 0, 0, 2, 0, 2, 1, 0, 1,\n",
      "        1, 0, 2, 0, 1, 0, 0, 2, 0, 0, 0, 0, 0, 1, 2, 0])\n",
      "tensor([0, 2, 2, 1, 0, 2, 1, 0, 2, 2, 0, 1, 2, 2, 2, 2, 1, 0, 0, 2, 2, 0, 1, 0,\n",
      "        2, 0, 2, 2, 0, 2, 2, 0, 0, 0, 1, 0, 2, 2, 0, 1, 0, 2, 0, 0, 1, 1, 1, 2,\n",
      "        0, 2, 2, 1, 0, 0, 2, 1, 1, 0, 2, 2, 0, 2, 2, 0])\n",
      "tensor([1, 0, 1, 0, 1, 1, 2, 2, 1, 2, 2, 1, 2, 2, 0, 1, 1, 1, 0, 1, 0, 1, 0, 0,\n",
      "        0, 0, 1, 0, 1, 2, 2, 1, 2, 2, 1, 1, 1, 2, 0, 1, 2, 0, 0, 1, 2, 0, 1, 1,\n",
      "        0, 1, 0, 1, 0, 0, 2, 1, 2, 2, 2, 1, 2, 2, 0, 1])\n",
      "tensor([0, 1, 2, 1, 0, 2, 2, 1, 2, 2, 1, 1, 1, 0, 2, 0, 1, 2, 2, 1, 0, 2, 0, 2,\n",
      "        1, 2, 1, 1, 2, 2, 2, 0, 2, 2, 0, 2, 2, 2, 1, 1, 1, 1, 2, 2, 0, 1, 0, 0,\n",
      "        0, 2, 2, 0, 0, 2, 0, 2, 0, 2, 1, 0, 1, 2, 1, 1])\n",
      "tensor([0, 0, 1, 0, 2, 2, 2, 1, 0, 2, 1, 1, 0, 0, 1, 2, 0, 1, 0, 1, 1, 2, 2, 1,\n",
      "        2, 2, 1, 2, 1, 0, 0, 2, 0, 1, 1, 2, 2, 0, 1, 1, 2, 0, 2, 2, 0, 0, 0, 0,\n",
      "        2, 1, 0, 0, 1, 2, 2, 2, 0, 0, 2, 1, 2, 1, 0, 1])\n",
      "tensor([0, 0, 2, 1, 1, 2, 2, 0, 2, 2, 0, 1, 0, 0, 0, 1, 2, 0, 0, 0, 2, 0, 2, 1,\n",
      "        0, 0, 2, 2, 1, 2, 1, 1, 0, 2, 1, 0, 1, 0, 2, 2, 0, 1, 0, 0, 0, 0, 2, 0,\n",
      "        2, 0, 1, 1, 0, 1, 0, 0, 2, 2, 0, 1, 0, 1, 0, 2])\n",
      "tensor([0, 2, 1, 0, 1, 2, 0, 0, 0, 1, 1, 2, 0, 0, 1, 2, 0, 1, 0, 2, 0, 2, 2, 2,\n",
      "        1, 0, 0, 2, 1, 0, 0, 1, 1, 2, 1, 1, 1, 0, 1, 1, 1, 1, 2, 1, 0, 0, 0, 1,\n",
      "        1, 1, 0, 2, 2, 0, 0, 1, 2, 1, 2, 0, 2, 1, 1, 1])\n",
      "tensor([0, 2, 2, 1, 1, 0, 2, 2, 1, 2, 2, 0, 2, 0, 0, 1, 2, 0, 1, 1, 2, 2, 2, 0,\n",
      "        0, 0, 1, 1, 2, 1, 0, 2, 1, 2, 0, 0, 2, 1, 0, 2, 1, 1, 0, 2, 1, 0, 1, 2,\n",
      "        1, 2, 1, 2, 1, 1, 2, 0, 2, 2, 1, 1, 2, 2, 0, 1])\n",
      "tensor([1, 0, 1, 1, 2, 0, 0, 0, 2, 2, 2, 2, 2, 2, 2, 1, 2, 2, 2, 2, 0, 2, 1, 2,\n",
      "        2, 2, 0, 2, 2, 1, 1, 2, 0, 0, 0, 1, 0, 1, 0, 0, 1, 0, 2, 2, 2, 1, 0, 0,\n",
      "        0, 0, 2, 2, 2, 0, 1, 1, 0, 2, 2, 2, 1, 2, 1, 0])\n",
      "tensor([1, 0, 2, 0, 0, 1, 1, 2, 2, 1, 2, 0, 0, 2, 1, 1, 2, 2, 0, 2, 0, 2, 2, 2,\n",
      "        2, 2, 1, 2, 0, 0, 2, 1, 1, 0, 2, 2, 2, 2, 1, 0, 2, 1, 2, 0, 2, 0, 1, 0,\n",
      "        1, 0, 0, 1, 2, 1, 2, 1, 1, 0, 2, 1, 2, 0, 2, 1])\n",
      "tensor([0, 0, 1, 1, 2, 2, 0])\n",
      "Accuracy on 1607 images: 74.0510%\n"
     ]
    }
   ],
   "source": [
    "correct = 0\n",
    "\n",
    "with torch.no_grad():\n",
    "    for inputs, labels in dataloader['test']:\n",
    "        outputs = model(inputs)\n",
    "        _, preds = torch.max(outputs, 1)\n",
    "        correct += torch.sum(preds == labels)\n",
    "        print(preds)\n",
    "    print(\"Accuracy on {} images: {:.4f}%\".format(len(dataset['test']), \n",
    "                                                correct.double()/len(dataset['test']) * 100))"
   ]
  },
  {
   "cell_type": "code",
   "execution_count": 51,
   "metadata": {},
   "outputs": [],
   "source": [
    "PATH = 'model.pt'\n",
    "torch.save(model, PATH)"
   ]
  },
  {
   "cell_type": "code",
   "execution_count": 52,
   "metadata": {},
   "outputs": [],
   "source": [
    "PATH = \"state_dict_model.pt\"\n",
    "torch.save(model.state_dict(), PATH)"
   ]
  }
 ],
 "metadata": {
  "interpreter": {
   "hash": "ac59ebe37160ed0dfa835113d9b8498d9f09ceb179beaac4002f036b9467c963"
  },
  "kernelspec": {
   "display_name": "Python 3.9.7 64-bit",
   "name": "python3"
  },
  "language_info": {
   "codemirror_mode": {
    "name": "ipython",
    "version": 3
   },
   "file_extension": ".py",
   "mimetype": "text/x-python",
   "name": "python",
   "nbconvert_exporter": "python",
   "pygments_lexer": "ipython3",
   "version": "3.9.7"
  },
  "orig_nbformat": 2
 },
 "nbformat": 4,
 "nbformat_minor": 2
}
