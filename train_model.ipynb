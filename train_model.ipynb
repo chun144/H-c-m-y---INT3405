{
 "cells": [
  {
   "cell_type": "code",
   "execution_count": 1,
   "metadata": {},
   "outputs": [],
   "source": [
    "import numpy as np\n",
    "import os\n",
    "from glob import glob"
   ]
  },
  {
   "cell_type": "code",
   "execution_count": 2,
   "metadata": {},
   "outputs": [
    {
     "name": "stdout",
     "output_type": "stream",
     "text": [
      "Training images:  6717\n"
     ]
    }
   ],
   "source": [
    "path = 'DATA_CHAMBER_2021'\n",
    "\n",
    "files_training = glob(os.path.join(path, 'train', '*/*.*'))\n",
    "num_imgs = len(files_training)\n",
    "print(\"Training images: \", num_imgs)"
   ]
  },
  {
   "cell_type": "code",
   "execution_count": 3,
   "metadata": {},
   "outputs": [
    {
     "name": "stdout",
     "output_type": "stream",
     "text": [
      "class             count\n",
      "----------------------\n",
      "  0 2C                  2377\n",
      "  1 3C                  2309\n",
      "  2 4C                  2031\n",
      "\n",
      "\n",
      "Total class:  3\n"
     ]
    }
   ],
   "source": [
    "print(\"{:18s}\".format('class'), end='')\n",
    "print('count')\n",
    "print('-'*22)\n",
    "\n",
    "class_names=[]\n",
    "for i, folder in enumerate(os.listdir(os.path.join(path, 'train'))):\n",
    "    num = len(os.listdir(os.path.join(path, 'train', folder)))\n",
    "    print('{:3d} {:20s}'.format(i, folder), end='')\n",
    "    print(num)\n",
    "    class_names.append(folder)\n",
    "print(\"\\n\\nTotal class: \", len(class_names))"
   ]
  },
  {
   "cell_type": "code",
   "execution_count": 4,
   "metadata": {},
   "outputs": [],
   "source": [
    "import torch\n",
    "from torchvision import transforms\n",
    "from torchvision.datasets import ImageFolder\n",
    "\n",
    "tensor_transform = transforms.Compose([\n",
    "    transforms.Resize((100, 100)),\n",
    "    transforms.ToTensor()\n",
    "])\n",
    "\n",
    "all_data = ImageFolder(os.path.join(path, 'train'), tensor_transform)\n",
    "\n",
    "data_loader = torch.utils.data.DataLoader(all_data, batch_size=512, shuffle=True)"
   ]
  },
  {
   "cell_type": "code",
   "execution_count": 5,
   "metadata": {},
   "outputs": [
    {
     "name": "stdout",
     "output_type": "stream",
     "text": [
      "[0.13285467 0.12805647 0.12908885]\n",
      "[0.2061425  0.20130977 0.20254733]\n"
     ]
    }
   ],
   "source": [
    "tol_mean = []\n",
    "tol_std = []\n",
    "\n",
    "for i, data in enumerate(data_loader):\n",
    "    # tensor to numpy\n",
    "    numpy_image = data[0].numpy()\n",
    "\n",
    "    # compute mean and standard devation\n",
    "    # axis=023 bcs data[0] size is (batchsize, channels, width, height)\n",
    "    # so we want to compute mean and std of 3 channels\n",
    "    batch_mean = np.mean(numpy_image, axis=(0,2,3))\n",
    "    batch_std = np.std(numpy_image, axis=(0,2,3))\n",
    "\n",
    "    tol_mean.append(batch_mean)\n",
    "    tol_std.append(batch_std)\n",
    "    \n",
    "tol_mean = np.array(tol_mean).mean(axis=0)\n",
    "tol_std = np.array(tol_std).mean(axis=0)\n",
    "print(tol_mean)\n",
    "print(tol_std)"
   ]
  },
  {
   "cell_type": "code",
   "execution_count": 6,
   "metadata": {},
   "outputs": [],
   "source": [
    "tol_mean = [0.13285483, 0.12812747, 0.12914398]\n",
    "tol_std = [0.20637107, 0.2016242,  0.20284693]"
   ]
  },
  {
   "cell_type": "code",
   "execution_count": 7,
   "metadata": {},
   "outputs": [
    {
     "name": "stdout",
     "output_type": "stream",
     "text": [
      "Number of valid images after split: 1343\n",
      "Number of train images after split: 5374\n"
     ]
    }
   ],
   "source": [
    "np.random.seed(0)\n",
    "shuffle = np.random.permutation(num_imgs)\n",
    "split_val = int(num_imgs*0.2)\n",
    "print('Number of valid images after split:',len(shuffle[:split_val]))\n",
    "print('Number of train images after split:',len(shuffle[split_val:]))"
   ]
  },
  {
   "cell_type": "code",
   "execution_count": 8,
   "metadata": {},
   "outputs": [
    {
     "data": {
      "text/plain": [
       "['DATA_CHAMBER_2021', 'train', '3C', '117_16.jpg']"
      ]
     },
     "execution_count": 8,
     "metadata": {},
     "output_type": "execute_result"
    }
   ],
   "source": [
    "np.array([files_training[i] for i in shuffle[split_val:]])[0].split('\\\\')"
   ]
  },
  {
   "cell_type": "code",
   "execution_count": 9,
   "metadata": {},
   "outputs": [],
   "source": [
    "from PIL import Image\n",
    "from torch.utils.data import Dataset\n",
    "\n",
    "class TrainDataset(Dataset):\n",
    "    def __init__(self, files, shuffle, spilit_val, class_names, transform=transforms.ToTensor()):\n",
    "        self.class_names = class_names\n",
    "        self.transform = transform\n",
    "        self.data = np.array([files[i] for i in shuffle[spilit_val:]])\n",
    "    def __len__(self):\n",
    "        return len(self.data)\n",
    "    def __getitem__(self, idx):\n",
    "        img = Image.open(self.data[idx])\n",
    "        img = self.transform(img)\n",
    "        name = self.data[idx].split('\\\\')[-2]\n",
    "        y = self.class_names.index(name)\n",
    "        return img, y\n",
    "\n",
    "class ValidDataset(Dataset):\n",
    "    def __init__(self, files, shuffle, spilit_val, class_names, transform=transforms.ToTensor()):\n",
    "        self.class_names = class_names\n",
    "        self.transform = transform\n",
    "        self.data = np.array([files[i] for i in shuffle[:spilit_val]])\n",
    "    def __len__(self):\n",
    "        return len(self.data)\n",
    "    def __getitem__(self, idx):\n",
    "        img = Image.open(self.data[idx])\n",
    "        img = self.transform(img)\n",
    "        name = self.data[idx].split('\\\\')[-2]\n",
    "        y = self.class_names.index(name) \n",
    "        return img, y\n",
    "\n",
    "class TestDataset(Dataset):\n",
    "    def __init__(self, path, class_names, transform=transforms.ToTensor()):\n",
    "        self.class_names = class_names\n",
    "        self.transform = transform\n",
    "        self.data = np.array(glob(os.path.join(path, 'test', '*/*.*')))\n",
    "    def __len__(self):\n",
    "        return len(self.data)\n",
    "    def __getitem__(self, idx):\n",
    "        img = Image.open(self.data[idx])\n",
    "        img = self.transform(img)\n",
    "        name = self.data[idx].split('\\\\')[-2]\n",
    "        y = self.class_names.index(name)\n",
    "        return img, y"
   ]
  },
  {
   "cell_type": "code",
   "execution_count": 10,
   "metadata": {},
   "outputs": [],
   "source": [
    "data_transform = {\n",
    "    'train' : transforms.Compose([\n",
    "        transforms.Resize((100, 100)),\n",
    "        transforms.RandomHorizontalFlip(),\n",
    "        transforms.RandomVerticalFlip(),\n",
    "        transforms.ToTensor(),\n",
    "        transforms.Normalize(tol_mean, tol_std)\n",
    "    ]),\n",
    "    'valid' : transforms.Compose([\n",
    "        transforms.Resize((100, 100)),\n",
    "        transforms.ToTensor(),\n",
    "        transforms.Normalize(tol_mean, tol_std)\n",
    "    ]),\n",
    "    'test' : transforms.Compose([\n",
    "        transforms.Resize((100, 100)),\n",
    "        transforms.ToTensor(),\n",
    "        transforms.Normalize(tol_mean, tol_std)\n",
    "\n",
    "    ])\n",
    "}\n",
    "test_dataset = TestDataset(path, class_names, data_transform['test'])\n",
    "test_loader = torch.utils.data.DataLoader(test_dataset, batch_size=64, shuffle=True)"
   ]
  },
  {
   "cell_type": "code",
   "execution_count": 11,
   "metadata": {},
   "outputs": [],
   "source": [
    "train_dataset = TrainDataset(files_training, shuffle, \n",
    "                                split_val, class_names, data_transform['train'])\n",
    "valid_dataset = ValidDataset(files_training, shuffle,\n",
    "                                split_val, class_names, data_transform['valid'])\n",
    "test_dataset = TestDataset(path, class_names, data_transform['test'])\n",
    "\n",
    "train_loader = torch.utils.data.DataLoader(train_dataset, batch_size=64, shuffle=True)\n",
    "valid_loader = torch.utils.data.DataLoader(valid_dataset, batch_size=64, shuffle=True)\n",
    "test_loader = torch.utils.data.DataLoader(test_dataset, batch_size=64, shuffle=True)"
   ]
  },
  {
   "cell_type": "code",
   "execution_count": 12,
   "metadata": {},
   "outputs": [],
   "source": [
    "dataloader = {\n",
    "    'train' : train_loader,\n",
    "    'valid' : valid_loader,\n",
    "    'test' : test_loader\n",
    "}\n",
    "\n",
    "dataset = {\n",
    "    'train' : train_dataset,\n",
    "    'valid' : valid_dataset,\n",
    "    'test' : test_dataset\n",
    "}"
   ]
  },
  {
   "cell_type": "code",
   "execution_count": 14,
   "metadata": {},
   "outputs": [
    {
     "name": "stdout",
     "output_type": "stream",
     "text": [
      "(100, 100, 3)\n"
     ]
    },
    {
     "data": {
      "image/png": "[encoded data removed]",
      "text/plain": [
       "<Figure size 432x288 with 1 Axes>"
      ]
     },
     "metadata": {
      "needs_background": "light"
     },
     "output_type": "display_data"
    }
   ],
   "source": [
    "import matplotlib.pyplot as plt\n",
    "\n",
    "for images, labels in train_loader:\n",
    "    images = images.numpy()\n",
    "    temp = images[0].transpose((1,2,0))\n",
    "    print(temp.shape)\n",
    "    temp = temp * tol_std + tol_mean\n",
    "    temp = np.clip(temp, 0, 1)\n",
    "    plt.imshow(temp)\n",
    "    plt.title(class_names[labels.numpy()[0]])\n",
    "    break\n",
    "    "
   ]
  },
  {
   "cell_type": "code",
   "execution_count": 15,
   "metadata": {},
   "outputs": [],
   "source": [
    "import torch.nn as nn\n",
    "import torch.nn.functional as F\n",
    "\n",
    "class Net(nn.Module):\n",
    "    def __init__(self, num_classes):\n",
    "        super().__init__()\n",
    "        self.conv1 = nn.Conv2d(in_channels=3, out_channels=16, kernel_size=5)\n",
    "        self.conv1_bn = nn.BatchNorm2d(16)\n",
    "        self.pool = nn.MaxPool2d(kernel_size=2, stride=2)\n",
    "\n",
    "        self.conv2 = nn.Conv2d(in_channels=16, out_channels=32, kernel_size=3)\n",
    "        self.conv2_bn = nn.BatchNorm2d(32)\n",
    "\n",
    "        self.conv3 = nn.Conv2d(in_channels=32, out_channels=64, kernel_size=3)\n",
    "        self.conv3_bn = nn.BatchNorm2d(64)\n",
    "\n",
    "        self.fc1 = nn.Linear(64 * 10 * 10, 250)\n",
    "        self.fc2 = nn.Linear(250, num_classes)\n",
    "\n",
    "    def forward(self, x):\n",
    "        x = self.pool(F.relu(self.conv1_bn(self.conv1(x))))\n",
    "        x = self.pool(F.relu(self.conv2_bn(self.conv2(x))))\n",
    "        x = self.pool(F.relu(self.conv3_bn(self.conv3(x))))\n",
    "        x = x.view(-1, 64 * 10 * 10)\n",
    "        x = F.dropout(F.relu(self.fc1(x)), p=0.4)\n",
    "        x = self.fc2(x)\n",
    "\n",
    "        return F.log_softmax(x, dim=1)"
   ]
  },
  {
   "cell_type": "code",
   "execution_count": 16,
   "metadata": {},
   "outputs": [],
   "source": [
    "import torch.optim as optim\n",
    "\n",
    "# device = torch.device(\"cuda:0\")\n",
    "model = Net(len(class_names))\n",
    "# model.to(device)\n",
    "\n",
    "criterion = nn.CrossEntropyLoss()\n",
    "optimizer = optim.SGD(model.parameters(), lr=0.01)\n",
    "exp_scheduler = torch.optim.lr_scheduler.StepLR(optimizer, step_size=7, gamma=0.1)\n",
    "# lr = lr/0.1 for each 7 epoch\n"
   ]
  },
  {
   "cell_type": "code",
   "execution_count": 18,
   "metadata": {},
   "outputs": [
    {
     "name": "stdout",
     "output_type": "stream",
     "text": [
      "\n",
      "Epoch 0/29:\n",
      "train Loss: 0.909924 Accuracy: 0.587086\n",
      "valid Loss: 0.796709 Accuracy: 0.663440\n",
      "\n",
      "Epoch 1/29:\n",
      "train Loss: 0.684864 Accuracy: 0.718273\n",
      "valid Loss: 0.668976 Accuracy: 0.727476\n",
      "\n",
      "Epoch 2/29:\n",
      "train Loss: 0.524868 Accuracy: 0.802940\n",
      "valid Loss: 0.588710 Accuracy: 0.728220\n",
      "\n",
      "Epoch 3/29:\n",
      "train Loss: 0.387689 Accuracy: 0.862486\n",
      "valid Loss: 0.333137 Accuracy: 0.903202\n",
      "\n",
      "Epoch 4/29:\n",
      "train Loss: 0.287228 Accuracy: 0.911053\n",
      "valid Loss: 0.282793 Accuracy: 0.917349\n",
      "\n",
      "Epoch 5/29:\n",
      "train Loss: 0.207024 Accuracy: 0.950502\n",
      "valid Loss: 0.216073 Accuracy: 0.954579\n",
      "\n",
      "Epoch 6/29:\n",
      "train Loss: 0.193467 Accuracy: 0.956829\n",
      "valid Loss: 0.196668 Accuracy: 0.950856\n",
      "\n",
      "Epoch 7/29:\n",
      "train Loss: 0.186604 Accuracy: 0.957015\n",
      "valid Loss: 0.196192 Accuracy: 0.957558\n",
      "\n",
      "Epoch 8/29:\n",
      "train Loss: 0.185243 Accuracy: 0.955713\n",
      "valid Loss: 0.191430 Accuracy: 0.954579\n",
      "\n",
      "Epoch 9/29:\n",
      "train Loss: 0.175095 Accuracy: 0.963900\n",
      "valid Loss: 0.181794 Accuracy: 0.960536\n",
      "\n",
      "Epoch 10/29:\n",
      "train Loss: 0.166966 Accuracy: 0.962970\n",
      "valid Loss: 0.177165 Accuracy: 0.958302\n",
      "\n",
      "Epoch 11/29:\n",
      "train Loss: 0.163902 Accuracy: 0.965203\n",
      "valid Loss: 0.168671 Accuracy: 0.965004\n",
      "\n",
      "Epoch 12/29:\n",
      "train Loss: 0.161263 Accuracy: 0.965947\n",
      "valid Loss: 0.171724 Accuracy: 0.957558\n",
      "\n",
      "Epoch 13/29:\n",
      "train Loss: 0.157961 Accuracy: 0.968180\n",
      "valid Loss: 0.168568 Accuracy: 0.962770\n",
      "\n",
      "Epoch 14/29:\n",
      "train Loss: 0.161248 Accuracy: 0.964831\n",
      "valid Loss: 0.167564 Accuracy: 0.959792\n",
      "\n",
      "Epoch 15/29:\n",
      "train Loss: 0.158706 Accuracy: 0.962970\n",
      "valid Loss: 0.168512 Accuracy: 0.967982\n",
      "\n",
      "Epoch 16/29:\n",
      "train Loss: 0.161764 Accuracy: 0.964459\n",
      "valid Loss: 0.171770 Accuracy: 0.954579\n",
      "\n",
      "Epoch 17/29:\n",
      "train Loss: 0.158620 Accuracy: 0.967064\n",
      "valid Loss: 0.166659 Accuracy: 0.968727\n",
      "\n",
      "Epoch 18/29:\n",
      "train Loss: 0.158282 Accuracy: 0.963528\n",
      "valid Loss: 0.172873 Accuracy: 0.958302\n",
      "\n",
      "Epoch 19/29:\n",
      "train Loss: 0.156085 Accuracy: 0.967436\n",
      "valid Loss: 0.162787 Accuracy: 0.967238\n",
      "\n",
      "Epoch 20/29:\n",
      "train Loss: 0.158945 Accuracy: 0.964831\n",
      "valid Loss: 0.171169 Accuracy: 0.965004\n",
      "\n",
      "Epoch 21/29:\n",
      "train Loss: 0.157347 Accuracy: 0.966691\n",
      "valid Loss: 0.167057 Accuracy: 0.963515\n",
      "\n",
      "Epoch 22/29:\n",
      "train Loss: 0.156653 Accuracy: 0.967436\n",
      "valid Loss: 0.168387 Accuracy: 0.962770\n",
      "\n",
      "Epoch 23/29:\n",
      "train Loss: 0.155739 Accuracy: 0.968180\n",
      "valid Loss: 0.166722 Accuracy: 0.965004\n",
      "\n",
      "Epoch 24/29:\n",
      "train Loss: 0.157746 Accuracy: 0.967622\n",
      "valid Loss: 0.173671 Accuracy: 0.964259\n",
      "\n",
      "Epoch 25/29:\n",
      "train Loss: 0.156059 Accuracy: 0.968552\n",
      "valid Loss: 0.162318 Accuracy: 0.964259\n",
      "\n",
      "Epoch 26/29:\n",
      "train Loss: 0.159291 Accuracy: 0.966878\n",
      "valid Loss: 0.163236 Accuracy: 0.968727\n",
      "\n",
      "Epoch 27/29:\n",
      "train Loss: 0.155003 Accuracy: 0.970413\n",
      "valid Loss: 0.171799 Accuracy: 0.962770\n",
      "\n",
      "Epoch 28/29:\n",
      "train Loss: 0.156753 Accuracy: 0.966319\n",
      "valid Loss: 0.164864 Accuracy: 0.967238\n",
      "\n",
      "Epoch 29/29:\n",
      "train Loss: 0.153015 Accuracy: 0.969669\n",
      "valid Loss: 0.162762 Accuracy: 0.967982\n",
      "\n",
      "Complete training in 0h 27m\n"
     ]
    }
   ],
   "source": [
    "dataloader = {\n",
    "    'train' : train_loader,\n",
    "    'valid' : valid_loader,\n",
    "    'test' : test_loader\n",
    "}\n",
    "\n",
    "dataset = {\n",
    "    'train' : train_dataset,\n",
    "    'valid' : valid_dataset,\n",
    "    'test' : test_dataset\n",
    "}\n",
    "\n",
    "import time\n",
    "import copy\n",
    "\n",
    "def fit(model, criterion, optimizer, scheduler, num_epochs=30):\n",
    "\n",
    "    history = {\n",
    "        'train': list(),\n",
    "        'valid': list()\n",
    "    }\n",
    "\n",
    "    history_acc = {\n",
    "        'train': list(),\n",
    "        'valid': list()\n",
    "    }\n",
    "\n",
    "    begin = time.time()\n",
    "    best_acc = 0.0\n",
    "    for epoch in range(num_epochs):\n",
    "        print(\"\\nEpoch {}/{}:\".format(epoch, num_epochs-1))\n",
    "\n",
    "        for phase in ['train', 'valid']:\n",
    "            if phase == 'train':\n",
    "                scheduler.step()\n",
    "                model.train() # enable dropout & batchnorm\n",
    "            else:\n",
    "                model.eval() # disable dropout & batchnorm\n",
    "\n",
    "            running_loss = 0.0\n",
    "            running_acc = 0\n",
    "            for inputs, labels in dataloader[phase]:\n",
    "                \n",
    "                optimizer.zero_grad()\n",
    "                \n",
    "                with torch.set_grad_enabled(phase == 'train'):\n",
    "                    outputs = model(inputs)\n",
    "                    _, preds = torch.max(outputs, 1)\n",
    "                    # max with dim=1, return: value & index\n",
    "                    # just need index to compare with labels\n",
    "\n",
    "                    loss = criterion(outputs, labels)\n",
    "\n",
    "                    if phase == 'train':\n",
    "                        loss.backward()\n",
    "                        optimizer.step()\n",
    "                running_loss += loss.item() * inputs.size(0)\n",
    "                running_acc += torch.sum(preds == labels)\n",
    "\n",
    "            phase_loss = running_loss / len(dataset[phase])\n",
    "            history[phase].append(phase_loss)\n",
    "            phase_acc = running_acc / len(dataset[phase])\n",
    "            history_acc[phase].append(float(phase_acc))\n",
    "\n",
    "            print(\"{} Loss: {:4f} Accuracy: {:4f}\".format(phase, phase_loss, phase_acc))\n",
    "\n",
    "            if phase == 'valid' and phase_acc > best_acc:\n",
    "                best_acc = phase_acc\n",
    "                best_model = copy.deepcopy(model.state_dict())\n",
    "\n",
    "    end = time.time() - begin\n",
    "    h = end//3600\n",
    "    m = (end - h*3600)//60\n",
    "    print(\"\\nComplete training in {:.0f}h {:.0f}m\".format(h, m))\n",
    "\n",
    "    import json\n",
    "\n",
    "    history_file = open('history_acc.json', \"w\")\n",
    "    json.dump(history_acc, history_file)\n",
    "    history_file.close()\n",
    "\n",
    "    history_file = open('history.json', \"w\")\n",
    "    json.dump(history, history_file)\n",
    "    history_file.close()\n",
    "    \n",
    "    model.load_state_dict(best_model)\n",
    "    return model\n",
    "                \n",
    "model = fit(model, criterion, optimizer, exp_scheduler, num_epochs=30)"
   ]
  },
  {
   "cell_type": "code",
   "execution_count": 19,
   "metadata": {},
   "outputs": [
    {
     "data": {
      "image/png": "[encoded data removed]",
      "text/plain": [
       "<Figure size 432x288 with 1 Axes>"
      ]
     },
     "metadata": {
      "needs_background": "light"
     },
     "output_type": "display_data"
    }
   ],
   "source": [
    "import json\n",
    "\n",
    "history_path = 'history.json'\n",
    "\n",
    "history_file = open(history_path, \"r\")\n",
    "history = history_file.read()\n",
    "history_file.close()\n",
    "\n",
    "history = json.loads(history)\n",
    "\n",
    "import matplotlib.pyplot as plt\n",
    "plt.plot(history['train'])\n",
    "plt.plot(history['valid'])\n",
    "plt.legend(['train loss', 'valid loss'])\n",
    "plt.show()"
   ]
  },
  {
   "cell_type": "code",
   "execution_count": 20,
   "metadata": {},
   "outputs": [
    {
     "data": {
      "image/png": "[encoded data removed]",
      "text/plain": [
       "<Figure size 432x288 with 1 Axes>"
      ]
     },
     "metadata": {
      "needs_background": "light"
     },
     "output_type": "display_data"
    }
   ],
   "source": [
    "import json\n",
    "\n",
    "history_path = 'history_acc.json'\n",
    "\n",
    "history_file = open(history_path, \"r\")\n",
    "history = history_file.read()\n",
    "history_file.close()\n",
    "\n",
    "history = json.loads(history)\n",
    "\n",
    "import matplotlib.pyplot as plt\n",
    "plt.plot(history['train'])\n",
    "plt.plot(history['valid'])\n",
    "plt.legend(['train loss', 'valid loss'])\n",
    "plt.show()"
   ]
  },
  {
   "cell_type": "code",
   "execution_count": 23,
   "metadata": {},
   "outputs": [
    {
     "name": "stdout",
     "output_type": "stream",
     "text": [
      "tensor([0, 1, 0, 0, 2, 0, 2, 2, 2, 0, 1, 1, 2, 0, 0, 2, 0, 1, 2, 1, 1, 1, 0, 2,\n",
      "        0, 2, 1, 2, 0, 2, 2, 2, 0, 2, 2, 0, 2, 1, 1, 2, 2, 1, 1, 2, 1, 0, 0, 1,\n",
      "        0, 1, 2, 0, 2, 0, 0, 0, 2, 1, 0, 1, 2, 2, 2, 0])\n",
      "tensor([2, 0, 2, 2, 0, 1, 1, 1, 1, 1, 0, 0, 1, 1, 2, 2, 1, 1, 0, 0, 2, 0, 1, 1,\n",
      "        2, 2, 1, 2, 1, 2, 0, 0, 1, 2, 1, 1, 2, 2, 1, 0, 0, 1, 0, 2, 0, 0, 0, 2,\n",
      "        1, 0, 1, 2, 2, 2, 0, 1, 1, 2, 1, 2, 0, 2, 0, 2])\n",
      "tensor([0, 1, 0, 1, 2, 1, 2, 1, 1, 2, 0, 1, 1, 0, 0, 1, 2, 0, 2, 0, 0, 1, 2, 1,\n",
      "        1, 0, 1, 2, 0, 1, 1, 0, 2, 2, 2, 2, 1, 1, 2, 2, 2, 2, 2, 2, 2, 2, 0, 1,\n",
      "        0, 2, 2, 2, 2, 1, 2, 2, 2, 2, 1, 0, 2, 2, 2, 1])\n",
      "tensor([2, 0, 2, 1, 2, 1, 0, 1, 2, 1, 0, 1, 0, 2, 2, 1, 0, 1, 2, 2, 2, 0, 2, 0,\n",
      "        0, 0, 1, 1, 0, 0, 2, 2, 2, 1, 1, 1, 2, 2, 0, 0, 1, 1, 0, 1, 2, 2, 1, 0,\n",
      "        0, 2, 0, 2, 0, 2, 0, 0, 0, 0, 1, 1, 1, 0, 2, 0])\n",
      "tensor([1, 2, 0, 1, 1, 1, 0, 2, 1, 0, 0, 0, 0, 2, 1, 1, 0, 2, 1, 1, 0, 2, 0, 1,\n",
      "        1, 0, 2, 1, 1, 0, 1, 0, 2, 2, 0, 1, 2, 1, 2, 0, 0, 1, 2, 1, 0, 2, 0, 2,\n",
      "        2, 2, 0, 0, 0, 0, 2, 1, 2, 2, 0, 1, 0, 0, 1, 1])\n",
      "tensor([0, 1, 2, 1, 2, 1, 2, 0, 1, 1, 0, 2, 0, 1, 0, 2, 1, 1, 1, 1, 0, 1, 2, 1,\n",
      "        1, 2, 2, 2, 0, 1, 1, 1, 0, 1, 1, 0, 2, 0, 1, 2, 1, 2, 2, 2, 0, 1, 2, 0,\n",
      "        0, 1, 2, 0, 2, 0, 0, 1, 2, 1, 1, 2, 2, 1, 2, 2])\n",
      "tensor([0, 2, 1, 1, 2, 1, 2, 1, 2, 2, 1, 1, 2, 1, 1, 2, 1, 1, 1, 2, 1, 2, 0, 2,\n",
      "        0, 2, 0, 1, 2, 1, 0, 2, 2, 2, 1, 1, 0, 2, 1, 2, 2, 0, 2, 1, 2, 2, 0, 0,\n",
      "        0, 2, 1, 2, 1, 0, 2, 1, 0, 0, 0, 0, 1, 1, 0, 0])\n",
      "tensor([0, 2, 2, 0, 2, 0, 1, 2, 1, 0, 1, 0, 2, 0, 0, 2, 2, 2, 2, 2, 1, 0, 2, 1,\n",
      "        2, 0, 2, 0, 1, 2, 2, 1, 1, 0, 2, 2, 2, 0, 1, 2, 2, 0, 1, 0, 2, 1, 1, 2,\n",
      "        0, 1, 0, 0, 2, 1, 1, 0, 1, 2, 2, 2, 0, 0, 0, 0])\n",
      "tensor([1, 2, 2, 2, 1, 0, 2, 2, 1, 2, 1, 1, 1, 1, 0, 0, 1, 0, 2, 2, 1, 0, 0, 1,\n",
      "        1, 0, 0, 2, 0, 2, 0, 2, 1, 2, 2, 2, 2, 1, 1, 2, 2, 2, 1, 2, 2, 2, 2, 1,\n",
      "        0, 0, 0, 0, 1, 1, 2, 0, 0, 2, 0, 0, 2, 2, 1, 0])\n",
      "tensor([1, 0, 2, 1, 0, 0, 1, 2, 2, 0, 2, 0, 2, 2, 2, 2, 1, 1, 1, 1, 0, 0, 1, 2,\n",
      "        0, 2, 2, 1, 2, 2, 2, 1, 2, 2, 0, 2, 2, 2, 2, 1, 0, 2, 0, 0, 2, 1, 0, 0,\n",
      "        2, 0, 2, 2, 2, 1, 2, 0, 2, 2, 2, 2, 1, 1, 0, 1])\n",
      "tensor([0, 2, 0, 1, 0, 0, 1, 1, 0, 2, 2, 0, 0, 0, 0, 0, 1, 1, 2, 2, 2, 2, 0, 2,\n",
      "        2, 1, 2, 2, 2, 0, 0, 2, 0, 2, 2, 1, 2, 2, 0, 1, 2, 0, 2, 2, 2, 1, 1, 2,\n",
      "        0, 2, 1, 1, 1, 1, 2, 0, 2, 0, 1, 2, 0, 2, 2, 1])\n",
      "tensor([2, 2, 0, 0, 2, 1, 2, 1, 0, 1, 2, 1, 0, 2, 0, 0, 2, 0, 2, 0, 1, 2, 2, 2,\n",
      "        0, 0, 0, 2, 1, 2, 1, 2, 2, 0, 0, 2, 1, 1, 0, 2, 1, 2, 1, 2, 2, 0, 0, 2,\n",
      "        2, 2, 0, 0, 0, 0, 2, 1, 2, 0, 2, 2, 2, 0, 1, 1])\n",
      "tensor([2, 2, 0, 2, 2, 0, 0, 1, 2, 2, 1, 0, 2, 0, 1, 0, 0, 1, 0, 2, 1, 2, 1, 1,\n",
      "        0, 2, 1, 0, 1, 1, 0, 0, 2, 2, 2, 1, 2, 0, 2, 0, 0, 0, 1, 1, 1, 2, 1, 2,\n",
      "        2, 1, 1, 0, 2, 0, 1, 1, 2, 1, 0, 0, 0, 1, 2, 2])\n",
      "tensor([2, 2, 1, 1, 0, 2, 0, 1, 1, 1, 0, 1, 2, 2, 0, 1, 1, 2, 1, 1, 1, 2, 1, 0,\n",
      "        0, 0, 1, 1, 0, 0, 0, 2, 2, 2, 0, 2, 2, 0, 1, 2, 0, 1, 2, 0, 0, 2, 1, 0,\n",
      "        2, 2, 1, 2, 2, 0, 0, 2, 1, 1, 0, 2, 1, 1, 0, 0])\n",
      "tensor([0, 2, 2, 2, 2, 0, 0, 0, 2, 0, 0, 1, 1, 0, 2, 1, 0, 0, 2, 2, 2, 0, 0, 1,\n",
      "        2, 0, 2, 1, 1, 1, 2, 0, 0, 0, 2, 1, 1, 1, 2, 2, 0, 2, 2, 1, 1, 2, 1, 0,\n",
      "        2, 1, 2, 0, 2, 2, 2, 2, 0, 2, 0, 1, 2, 2, 2, 0])\n",
      "tensor([2, 0, 2, 0, 1, 2, 2, 2, 0, 2, 2, 2, 0, 2, 2, 0, 2, 2, 0, 0, 0, 0, 1, 0,\n",
      "        1, 1, 0, 0, 2, 0, 1, 0, 1, 2, 1, 0, 2, 1, 2, 2, 0, 1, 2, 0, 2, 2, 1, 2,\n",
      "        0, 0, 0, 1, 2, 2, 0, 1, 0, 1, 0, 2, 1, 2, 0, 1])\n",
      "tensor([0, 2, 0, 1, 2, 1, 2, 0, 1, 0, 2, 2, 0, 2, 0, 1, 2, 2, 2, 0, 0, 0, 2, 0,\n",
      "        2, 0, 2, 2, 2, 0, 1, 1, 2, 2, 2, 1, 1, 2, 0, 1, 0, 0, 2, 1, 2, 1, 2, 1,\n",
      "        0, 2, 1, 0, 0, 0, 2, 0, 0, 1, 1, 1, 2, 0, 0, 1])\n",
      "tensor([0, 1, 0, 2, 0, 2, 0, 2, 0, 2, 2, 0, 0, 2, 2, 2, 2, 0, 1, 1, 2, 2, 0, 0,\n",
      "        0, 1, 0, 0, 2, 0, 0, 2, 2, 2, 2, 1, 0, 2, 1, 1, 2, 2, 0, 2, 2, 0, 2, 2,\n",
      "        2, 0, 2, 2, 0, 1, 0, 1, 2, 0, 2, 2, 0, 1, 1, 1])\n",
      "tensor([2, 0, 2, 2, 2, 2, 0, 2, 2, 0, 2, 2, 1, 1, 0, 0, 2, 2, 2, 0, 1, 1, 0, 0,\n",
      "        0, 2, 0, 2, 2, 1, 0, 2, 0, 0, 0, 0, 0, 0, 2, 1, 0, 2, 2, 0, 1, 0, 2, 1,\n",
      "        2, 2, 0, 2, 0, 0, 0, 0, 0, 0, 1, 1, 0, 0, 2, 2])\n",
      "tensor([0, 2, 0, 2, 1, 0, 2, 0, 2, 0, 0, 2, 2, 2, 2, 2, 2, 2, 1, 0, 1, 2, 1, 0,\n",
      "        0, 0, 1, 2, 0, 1, 2, 2, 2, 1, 0, 2, 2, 0, 2, 2, 2, 2, 0, 0, 1, 0, 0, 1,\n",
      "        2, 2, 2, 0, 0, 0, 1, 2, 2, 1, 2, 2, 0, 0, 0, 0])\n",
      "tensor([1, 1, 2, 2, 2, 0, 0, 1, 0, 0, 1, 2, 2, 2, 2, 2, 2, 2, 2, 2, 1, 2, 2, 0,\n",
      "        0, 0, 0, 0, 2, 2, 2, 1, 0, 2, 2, 2, 2, 0, 1, 2, 2, 2, 2, 2, 1, 1, 2, 2,\n",
      "        0, 0, 0, 0, 2, 2, 0, 0, 0, 2, 0, 1, 2, 1, 0, 0])\n",
      "tensor([2, 2, 0, 2, 2, 0, 2, 2, 1, 2, 1, 0, 0, 1, 0, 0, 2, 0, 0, 0, 0, 0, 0, 1,\n",
      "        1, 0, 2, 2, 2, 1, 1, 1, 2, 1, 0, 2, 0, 1, 2, 0, 2, 1, 1, 2, 1, 2, 2, 2,\n",
      "        2, 0, 0, 1, 1, 1, 2, 2, 0, 0, 0, 1, 1, 0, 1, 1])\n",
      "tensor([1, 1, 2, 2, 1, 0, 2, 2, 1, 0, 1, 0, 1, 1, 1, 1, 2, 0, 2, 0, 2, 0, 0, 0,\n",
      "        2, 2, 1, 0, 0, 2, 2, 1, 2, 1, 2, 0, 0, 1, 0, 2, 2, 0, 2, 2, 2, 1, 2, 1,\n",
      "        0, 1, 1, 2, 0, 1, 1, 2, 1, 1, 2, 0, 2, 1, 1, 2])\n",
      "tensor([2, 2, 1, 2, 1, 0, 1, 2, 1, 0, 2, 2, 1, 0, 2, 0, 0, 0, 0, 1, 2, 0, 2, 1,\n",
      "        0, 1, 0, 2, 2, 0, 1, 1, 2, 2, 2, 2, 1, 2, 2, 1, 0, 1, 2, 2, 1, 0, 0, 2,\n",
      "        2, 0, 2, 1, 0, 0, 0, 1, 0, 2, 2, 1, 2, 1, 2, 1])\n",
      "tensor([2, 2, 1, 1, 0, 2, 1, 1, 2, 0, 1, 1, 2, 1, 2, 2, 0, 2, 2, 2, 0, 0, 2, 0,\n",
      "        0, 2, 2, 0, 1, 2, 2, 0, 0, 2, 0, 0, 2, 2, 0, 0, 1, 1, 1, 0, 2, 2, 0, 2,\n",
      "        0, 0, 2, 2, 0, 0, 1, 2, 1, 1, 0, 1, 0, 2, 2, 1])\n",
      "tensor([0, 0, 0, 2, 1, 0, 1])\n",
      "Accuracy on 1607 images: 73.3043%\n"
     ]
    }
   ],
   "source": [
    "correct = 0\n",
    "\n",
    "with torch.no_grad():\n",
    "    for inputs, labels in dataloader['test']:\n",
    "        outputs = model(inputs)\n",
    "        _, preds = torch.max(outputs, 1)\n",
    "        correct += torch.sum(preds == labels)\n",
    "        print(preds)\n",
    "    print(\"Accuracy on {} images: {:.4f}%\".format(len(dataset['test']), \n",
    "                                                correct.double()/len(dataset['test']) * 100))"
   ]
  },
  {
   "cell_type": "code",
   "execution_count": 51,
   "metadata": {},
   "outputs": [],
   "source": [
    "PATH = 'model.pt'\n",
    "torch.save(model, PATH)"
   ]
  },
  {
   "cell_type": "code",
   "execution_count": 52,
   "metadata": {},
   "outputs": [],
   "source": [
    "PATH = \"state_dict_model.pt\"\n",
    "torch.save(model.state_dict(), PATH)"
   ]
  },
  {
   "cell_type": "code",
   "execution_count": null,
   "metadata": {},
   "outputs": [],
   "source": [
    "import torch\n",
    "from torchvision import transforms\n",
    "from PIL import Image\n",
    "\n",
    "\n",
    "model = Net(2)\n",
    "model.load_state_dict(torch.load('state_dict_model.pt'))\n",
    "model.eval()\n",
    "\n",
    "img_path = '158_0.jpg'\n",
    "image = Image.open(img_path)\n",
    "image = image.view(1, 3, 100, 100)\n",
    "tol_mean = [0.13285483, 0.12812747, 0.12914398]\n",
    "tol_std = [0.20637107, 0.2016242,  0.20284693]\n",
    "\n",
    "transform = transforms.Compose([transforms.Resize((100, 100)),\n",
    "                                transforms.ToTensor(),\n",
    "                                transforms.Normalize(tol_mean, tol_std)\n",
    "                                ])\n",
    "image = transform(image)\n",
    "image = image.unsqueeze(0)\n",
    "\n",
    "val, pred = torch.max(model(image), 1)\n",
    "print(val)\n",
    "print(pred.item())\n",
    "print(class_names[pred.item()])"
   ]
  }
 ],
 "metadata": {
  "interpreter": {
   "hash": "ac59ebe37160ed0dfa835113d9b8498d9f09ceb179beaac4002f036b9467c963"
  },
  "kernelspec": {
   "display_name": "Python 3.9.7 64-bit",
   "name": "python3"
  },
  "language_info": {
   "codemirror_mode": {
    "name": "ipython",
    "version": 3
   },
   "file_extension": ".py",
   "mimetype": "text/x-python",
   "name": "python",
   "nbconvert_exporter": "python",
   "pygments_lexer": "ipython3",
   "version": "3.9.7"
  },
  "orig_nbformat": 2
 },
 "nbformat": 4,
 "nbformat_minor": 2
}
